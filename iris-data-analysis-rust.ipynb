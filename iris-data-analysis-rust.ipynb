{
 "cells": [
  {
   "cell_type": "code",
   "execution_count": null,
   "id": "0c1b2550-7732-4c1f-9e64-afd8388ea279",
   "metadata": {
    "vscode": {
     "languageId": "rust"
    }
   },
   "outputs": [],
   "source": [
    ":dep polars = { version = \"0.35.4\", features = [\"describe\", \"to_dummies\", \"ndarray\", \"random\"] }\n",
    ":dep polars-core\n",
    ":dep candle-core\n",
    ":dep thiserror"
   ]
  },
  {
   "cell_type": "code",
   "execution_count": null,
   "id": "02474271-6358-4607-a9c3-327b74e9e528",
   "metadata": {
    "vscode": {
     "languageId": "rust"
    }
   },
   "outputs": [],
   "source": [
    "use polars::prelude::*;\n",
    "use polars_core::prelude::*;\n",
    "use candle_core::{Device, Tensor};\n",
    "use polars::frame::DataFrame;\n",
    "use std::path::Path;"
   ]
  },
  {
   "cell_type": "code",
   "execution_count": null,
   "id": "ea17772e",
   "metadata": {
    "vscode": {
     "languageId": "rust"
    }
   },
   "outputs": [],
   "source": [
    "fn read_data_frame_from_csv(\n",
    "    csv_file_path: &Path,\n",
    ") -> DataFrame {\n",
    "    CsvReader::from_path(csv_file_path)\n",
    "        .expect(\"Cannot open file.\")\n",
    "        .has_header(true)\n",
    "        .finish()\n",
    "        .unwrap()\n",
    "}"
   ]
  },
  {
   "cell_type": "code",
   "execution_count": null,
   "id": "5b440936",
   "metadata": {
    "vscode": {
     "languageId": "rust"
    }
   },
   "outputs": [],
   "source": [
    "use std::fmt;\n",
    "\n",
    "#[derive(thiserror::Error, Debug)]\n",
    "pub struct MyError {\n",
    "    details: String\n",
    "}\n",
    "\n",
    "impl fmt::Display for MyError {\n",
    "    fn fmt(&self, f: &mut fmt::Formatter) -> fmt::Result {\n",
    "        write!(f, \"{}\", self.details)\n",
    "    }\n",
    "}\n",
    "\n",
    "impl From<PolarsError> for MyError {\n",
    "    fn from(error: PolarsError) -> Self {\n",
    "        MyError {\n",
    "            details: format!(\"{}\", error),\n",
    "        }\n",
    "    }\n",
    "}\n",
    "\n",
    "pub type MyResult<T> = std::result::Result<T, MyError>;\n",
    "\n",
    "fn dataframe_to_tensor(df: &DataFrame) -> MyResult<Tensor> {\n",
    "    let n_rows = df.height();\n",
    "    let n_cols = df.width();\n",
    "\n",
    "    // Collect DataFrame values into a Vec of Vecs\n",
    "    let mut values = Vec::with_capacity(n_cols);\n",
    "    for col in df.iter() {\n",
    "        let col_vec: Vec<f64> = col\n",
    "            .iter()\n",
    "            .map(|val| val.extract::<f64>().unwrap())\n",
    "            .collect();\n",
    "        values.push(col_vec);\n",
    "    };\n",
    "\n",
    "    // Create Tensor from flattened Vec of Vecs\n",
    "    Ok(Tensor::from_vec(\n",
    "        values.into_iter().flatten().collect(),\n",
    "        (n_cols, n_rows),\n",
    "        &Device::Cpu,\n",
    "    )\n",
    "    .expect(\"error\")\n",
    "    .t()\n",
    "    .expect(\"error\"))\n",
    "}"
   ]
  },
  {
   "cell_type": "code",
   "execution_count": null,
   "id": "1beb3247",
   "metadata": {
    "vscode": {
     "languageId": "rust"
    }
   },
   "outputs": [],
   "source": [
    "struct DataSet {\n",
    "    pub X_train: Tensor,\n",
    "    pub y_test: Tensor,\n",
    "    pub X_test: Tensor,\n",
    "    pub y_train: Tensor,\n",
    "}\n",
    "\n",
    "impl DataSet {\n",
    "    pub fn new(X_train: Tensor, y_train: Tensor, X_test: Tensor, y_test: Tensor) -> Self {\n",
    "        Self {\n",
    "            X_train,\n",
    "            y_train,\n",
    "            X_test,\n",
    "            y_test,\n",
    "        }\n",
    "    }\n",
    "\n",
    "    pub fn from_df(\n",
    "        df: &DataFrame, train_frac: f64, input_columns: &[&str], predict_columns: &[&str], seed: Option<u64>\n",
    "    ) -> Result<Self> {\n",
    "        let shuffled_df = df.sample_frac(&Series::new(\"frac\", &[1.0]), false, true, Some(42))?;  // shuffle the dataframe\n",
    "        \n",
    "        let n_rows = df.height();\n",
    "        let n_train_examples = (train_frac * n_rows as f64) as usize;\n",
    "\n",
    "        let df_train = shuffled_df.slice(0, n_train_examples);\n",
    "        let df_test = shuffled_df.slice(n_train_examples as i64, n_rows);\n",
    "\n",
    "        let X_train = dataframe_to_tensor(&df_train.select(input_columns)?)?;\n",
    "        let y_train = dataframe_to_tensor(&df_train.select(predict_columns)?)?;\n",
    "        let X_test = dataframe_to_tensor(&df_test.select(input_columns)?)?;\n",
    "        let y_test = dataframe_to_tensor(&df_test.select(predict_columns)?)?;\n",
    "\n",
    "        Ok(Self::new(X_train, y_train, X_test, y_test))\n",
    "    }\n",
    "}"
   ]
  },
  {
   "cell_type": "code",
   "execution_count": null,
   "id": "06d32fdb",
   "metadata": {
    "vscode": {
     "languageId": "rust"
    }
   },
   "outputs": [],
   "source": [
    "let iris_file_path: &Path = Path::new(\"Iris.csv\");\n",
    "let mut iris_df: DataFrame = read_data_frame_from_csv(iris_file_path);"
   ]
  },
  {
   "cell_type": "code",
   "execution_count": null,
   "id": "7eb8f50a",
   "metadata": {
    "vscode": {
     "languageId": "rust"
    }
   },
   "outputs": [],
   "source": [
    "iris_df.describe(None)?"
   ]
  },
  {
   "cell_type": "code",
   "execution_count": null,
   "id": "038b2899",
   "metadata": {
    "vscode": {
     "languageId": "rust"
    }
   },
   "outputs": [],
   "source": [
    "iris_df.head(Some(5))"
   ]
  },
  {
   "cell_type": "code",
   "execution_count": null,
   "id": "9f4ad0cf",
   "metadata": {
    "vscode": {
     "languageId": "rust"
    }
   },
   "outputs": [],
   "source": [
    "iris_df\n",
    ".hstack_mut(\n",
    "    iris_df[\"Species\"]\n",
    "    .to_dummies(None, false)?\n",
    "    .get_columns()\n",
    ")?\n",
    ".drop_in_place(\"Species\")?;"
   ]
  },
  {
   "cell_type": "code",
   "execution_count": null,
   "id": "4d14741b",
   "metadata": {
    "vscode": {
     "languageId": "rust"
    }
   },
   "outputs": [],
   "source": [
    "iris_df.head(Some(5))"
   ]
  },
  {
   "cell_type": "code",
   "execution_count": null,
   "id": "3352a92d",
   "metadata": {
    "vscode": {
     "languageId": "rust"
    }
   },
   "outputs": [],
   "source": [
    "let dataset = DataSet::from_df(\n",
    "    &iris_df,\n",
    "    0.8,\n",
    "    &[\"SepalLengthCm\", \"SepalWidthCm\", \"PetalLengthCm\", \"PetalWidthCm\"],\n",
    "    &[\"Species_Iris-setosa\", \"Species_Iris-versicolor\", \"Species_Iris-virginica\"],\n",
    "    Some(42),\n",
    ")?;"
   ]
  },
  {
   "cell_type": "code",
   "execution_count": null,
   "id": "3f3d7797",
   "metadata": {
    "vscode": {
     "languageId": "rust"
    }
   },
   "outputs": [],
   "source": [
    "(dataset.X_train.shape(), dataset.y_train.shape(), dataset.X_test.shape(), dataset.y_test.shape())"
   ]
  },
  {
   "cell_type": "markdown",
   "id": "78f4f3aa",
   "metadata": {},
   "source": [
    "---"
   ]
  },
  {
   "cell_type": "code",
   "execution_count": null,
   "id": "c9d2e52d",
   "metadata": {
    "vscode": {
     "languageId": "rust"
    }
   },
   "outputs": [],
   "source": []
  }
 ],
 "metadata": {
  "kernelspec": {
   "display_name": "Rust",
   "language": "rust",
   "name": "rust"
  },
  "language_info": {
   "codemirror_mode": "rust",
   "file_extension": ".rs",
   "mimetype": "text/rust",
   "name": "Rust",
   "pygment_lexer": "rust",
   "version": ""
  }
 },
 "nbformat": 4,
 "nbformat_minor": 5
}
