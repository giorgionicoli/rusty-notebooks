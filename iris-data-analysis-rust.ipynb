{
 "cells": [
  {
   "cell_type": "code",
   "execution_count": 3,
   "id": "0c1b2550-7732-4c1f-9e64-afd8388ea279",
   "metadata": {
    "vscode": {
     "languageId": "rust"
    }
   },
   "outputs": [],
   "source": [
    ":dep polars = { version = \"0.35.4\", features = [\"describe\", \"to_dummies\", \"ndarray\"] }\n",
    ":dep polars-core\n",
    ":dep candle-core"
   ]
  },
  {
   "cell_type": "code",
   "execution_count": 4,
   "id": "02474271-6358-4607-a9c3-327b74e9e528",
   "metadata": {
    "vscode": {
     "languageId": "rust"
    }
   },
   "outputs": [],
   "source": [
    "use polars::prelude::*;\n",
    "use polars_core::prelude::*;\n",
    "use candle_core::{Device, Tensor, Result};\n",
    "use polars::frame::DataFrame;\n",
    "use std::path::Path;\n",
    "\n",
    "// let a = IndexOrder::Fortran;"
   ]
  },
  {
   "cell_type": "code",
   "execution_count": 5,
   "metadata": {
    "vscode": {
     "languageId": "rust"
    }
   },
   "outputs": [],
   "source": [
    "fn read_data_frame_from_csv(\n",
    "    csv_file_path: &Path,\n",
    ") -> DataFrame {\n",
    "    CsvReader::from_path(csv_file_path)\n",
    "        .expect(\"Cannot open file.\")\n",
    "        .has_header(true)\n",
    "        .finish()\n",
    "        .unwrap()\n",
    "}"
   ]
  },
  {
   "cell_type": "code",
   "execution_count": 6,
   "id": "06d32fdb",
   "metadata": {
    "vscode": {
     "languageId": "rust"
    }
   },
   "outputs": [],
   "source": [
    "\n",
    "let iris_file_path: &Path = Path::new(\"Iris.csv\");\n",
    "let iris_df: DataFrame = read_data_frame_from_csv(iris_file_path);"
   ]
  },
  {
   "cell_type": "code",
   "execution_count": 7,
   "metadata": {
    "vscode": {
     "languageId": "rust"
    }
   },
   "outputs": [
    {
     "data": {
      "text/plain": [
       "shape: (9, 7)\n",
       "┌────────────┬───────────┬──────────────┬──────────────┬──────────────┬──────────────┬─────────────┐\n",
       "│ describe   ┆ Id        ┆ SepalLengthC ┆ SepalWidthCm ┆ PetalLengthC ┆ PetalWidthCm ┆ Species     │\n",
       "│ ---        ┆ ---       ┆ m            ┆ ---          ┆ m            ┆ ---          ┆ ---         │\n",
       "│ str        ┆ f64       ┆ ---          ┆ f64          ┆ ---          ┆ f64          ┆ str         │\n",
       "│            ┆           ┆ f64          ┆              ┆ f64          ┆              ┆             │\n",
       "╞════════════╪═══════════╪══════════════╪══════════════╪══════════════╪══════════════╪═════════════╡\n",
       "│ count      ┆ 150.0     ┆ 150.0        ┆ 150.0        ┆ 150.0        ┆ 150.0        ┆ 150         │\n",
       "│ null_count ┆ 0.0       ┆ 0.0          ┆ 0.0          ┆ 0.0          ┆ 0.0          ┆ 0           │\n",
       "│ mean       ┆ 75.5      ┆ 5.843333     ┆ 3.054        ┆ 3.758667     ┆ 1.198667     ┆ null        │\n",
       "│ std        ┆ 43.445368 ┆ 0.828066     ┆ 0.433594     ┆ 1.76442      ┆ 0.763161     ┆ null        │\n",
       "│ min        ┆ 1.0       ┆ 4.3          ┆ 2.0          ┆ 1.0          ┆ 0.1          ┆ Iris-setosa │\n",
       "│ 25%        ┆ 38.25     ┆ 5.1          ┆ 2.8          ┆ 1.6          ┆ 0.3          ┆ null        │\n",
       "│ 50%        ┆ 75.5      ┆ 5.8          ┆ 3.0          ┆ 4.35         ┆ 1.3          ┆ null        │\n",
       "│ 75%        ┆ 112.75    ┆ 6.4          ┆ 3.3          ┆ 5.1          ┆ 1.8          ┆ null        │\n",
       "│ max        ┆ 150.0     ┆ 7.9          ┆ 4.4          ┆ 6.9          ┆ 2.5          ┆ Iris-virgin │\n",
       "│            ┆           ┆              ┆              ┆              ┆              ┆ ica         │\n",
       "└────────────┴───────────┴──────────────┴──────────────┴──────────────┴──────────────┴─────────────┘"
      ]
     },
     "execution_count": 7,
     "metadata": {},
     "output_type": "execute_result"
    }
   ],
   "source": [
    "iris_df.describe(None)?"
   ]
  },
  {
   "cell_type": "code",
   "execution_count": 8,
   "metadata": {
    "vscode": {
     "languageId": "rust"
    }
   },
   "outputs": [
    {
     "data": {
      "text/plain": [
       "shape: (5, 6)\n",
       "┌─────┬───────────────┬──────────────┬───────────────┬──────────────┬─────────────┐\n",
       "│ Id  ┆ SepalLengthCm ┆ SepalWidthCm ┆ PetalLengthCm ┆ PetalWidthCm ┆ Species     │\n",
       "│ --- ┆ ---           ┆ ---          ┆ ---           ┆ ---          ┆ ---         │\n",
       "│ i64 ┆ f64           ┆ f64          ┆ f64           ┆ f64          ┆ str         │\n",
       "╞═════╪═══════════════╪══════════════╪═══════════════╪══════════════╪═════════════╡\n",
       "│ 1   ┆ 5.1           ┆ 3.5          ┆ 1.4           ┆ 0.2          ┆ Iris-setosa │\n",
       "│ 2   ┆ 4.9           ┆ 3.0          ┆ 1.4           ┆ 0.2          ┆ Iris-setosa │\n",
       "│ 3   ┆ 4.7           ┆ 3.2          ┆ 1.3           ┆ 0.2          ┆ Iris-setosa │\n",
       "│ 4   ┆ 4.6           ┆ 3.1          ┆ 1.5           ┆ 0.2          ┆ Iris-setosa │\n",
       "│ 5   ┆ 5.0           ┆ 3.6          ┆ 1.4           ┆ 0.2          ┆ Iris-setosa │\n",
       "└─────┴───────────────┴──────────────┴───────────────┴──────────────┴─────────────┘"
      ]
     },
     "execution_count": 8,
     "metadata": {},
     "output_type": "execute_result"
    }
   ],
   "source": [
    "iris_df.head(Some(5))"
   ]
  },
  {
   "cell_type": "code",
   "execution_count": 24,
   "metadata": {
    "vscode": {
     "languageId": "rust"
    }
   },
   "outputs": [],
   "source": [
    "let y: DataFrame = iris_df[\"Species\"]\n",
    "    .to_dummies(None, false)\n",
    "    .unwrap();"
   ]
  },
  {
   "cell_type": "code",
   "execution_count": 21,
   "id": "c9d2e52d",
   "metadata": {
    "vscode": {
     "languageId": "rust"
    }
   },
   "outputs": [
    {
     "data": {
      "text/plain": [
       "shape: (5, 3)\n",
       "┌─────────────────────┬─────────────────────────┬────────────────────────┐\n",
       "│ Species_Iris-setosa ┆ Species_Iris-versicolor ┆ Species_Iris-virginica │\n",
       "│ ---                 ┆ ---                     ┆ ---                    │\n",
       "│ i32                 ┆ i32                     ┆ i32                    │\n",
       "╞═════════════════════╪═════════════════════════╪════════════════════════╡\n",
       "│ 1                   ┆ 0                       ┆ 0                      │\n",
       "│ 1                   ┆ 0                       ┆ 0                      │\n",
       "│ 1                   ┆ 0                       ┆ 0                      │\n",
       "│ 1                   ┆ 0                       ┆ 0                      │\n",
       "│ 1                   ┆ 0                       ┆ 0                      │\n",
       "└─────────────────────┴─────────────────────────┴────────────────────────┘"
      ]
     },
     "execution_count": 21,
     "metadata": {},
     "output_type": "execute_result"
    }
   ],
   "source": [
    "y.head(Some(5))"
   ]
  },
  {
   "cell_type": "code",
   "execution_count": 33,
   "metadata": {
    "vscode": {
     "languageId": "rust"
    }
   },
   "outputs": [],
   "source": [
    "let X = iris_df\n",
    "    .drop(\"Species\")\n",
    "    .unwrap()\n",
    "    .drop(\"Id\")\n",
    "    .unwrap();"
   ]
  },
  {
   "cell_type": "code",
   "execution_count": 82,
   "metadata": {
    "vscode": {
     "languageId": "rust"
    }
   },
   "outputs": [
    {
     "data": {
      "text/plain": [
       "shape: (5, 4)\n",
       "┌───────────────┬──────────────┬───────────────┬──────────────┐\n",
       "│ SepalLengthCm ┆ SepalWidthCm ┆ PetalLengthCm ┆ PetalWidthCm │\n",
       "│ ---           ┆ ---          ┆ ---           ┆ ---          │\n",
       "│ f64           ┆ f64          ┆ f64           ┆ f64          │\n",
       "╞═══════════════╪══════════════╪═══════════════╪══════════════╡\n",
       "│ 5.1           ┆ 3.5          ┆ 1.4           ┆ 0.2          │\n",
       "│ 4.9           ┆ 3.0          ┆ 1.4           ┆ 0.2          │\n",
       "│ 4.7           ┆ 3.2          ┆ 1.3           ┆ 0.2          │\n",
       "│ 4.6           ┆ 3.1          ┆ 1.5           ┆ 0.2          │\n",
       "│ 5.0           ┆ 3.6          ┆ 1.4           ┆ 0.2          │\n",
       "└───────────────┴──────────────┴───────────────┴──────────────┘"
      ]
     },
     "execution_count": 82,
     "metadata": {},
     "output_type": "execute_result"
    }
   ],
   "source": [
    "X.head(Some(5))"
   ]
  },
  {
   "cell_type": "code",
   "execution_count": 84,
   "metadata": {
    "vscode": {
     "languageId": "rust"
    }
   },
   "outputs": [
    {
     "ename": "Error",
     "evalue": "type alias takes 1 generic argument but 2 generic arguments were supplied",
     "output_type": "error",
     "traceback": [
      "type alias takes 1 generic argument but 2 generic arguments were supplied"
     ]
    }
   ],
   "source": [
    "let arr = numeric_iris_df.to_ndarray::<Float64Type>(IndexOrder::Fortran).unwrap();"
   ]
  },
  {
   "cell_type": "code",
   "execution_count": 26,
   "metadata": {
    "vscode": {
     "languageId": "rust"
    }
   },
   "outputs": [],
   "source": [
    "fn dataframe_to_tensor(df: DataFrame) -> Result<Tensor> {\n",
    "    let n_rows = df.height();\n",
    "    let n_cols = df.width();\n",
    "\n",
    "    // Collect DataFrame values into a Vec of Vecs\n",
    "    let mut values = Vec::with_capacity(n_cols);\n",
    "    for col in df.iter() {\n",
    "        let col_vec: Vec<f64> = col\n",
    "            .iter()\n",
    "            .map(|val| val.extract::<f64>().unwrap())\n",
    "            .collect();\n",
    "        values.push(col_vec);\n",
    "    };\n",
    "\n",
    "    // Create Tensor from flattened Vec of Vecs\n",
    "    Ok(Tensor::from_vec(\n",
    "        values.into_iter().flatten().collect(),\n",
    "        (n_cols, n_rows),\n",
    "        &Device::Cpu,\n",
    "    )\n",
    "    .expect(\"error\")\n",
    "    .t()\n",
    "    .expect(\"error\"))\n",
    "}"
   ]
  },
  {
   "cell_type": "code",
   "execution_count": 31,
   "metadata": {
    "vscode": {
     "languageId": "rust"
    }
   },
   "outputs": [],
   "source": [
    "let X = dataframe_to_tensor(X)?;\n",
    "let y = dataframe_to_tensor(y)?;"
   ]
  },
  {
   "cell_type": "code",
   "execution_count": 36,
   "metadata": {
    "vscode": {
     "languageId": "rust"
    }
   },
   "outputs": [
    {
     "data": {
      "text/plain": [
       "((150, 4), (150, 3))"
      ]
     },
     "execution_count": 36,
     "metadata": {},
     "output_type": "execute_result"
    }
   ],
   "source": [
    "(X.shape(), y.shape())"
   ]
  },
  {
   "cell_type": "code",
   "execution_count": null,
   "id": "c87035e7",
   "metadata": {
    "vscode": {
     "languageId": "rust"
    }
   },
   "outputs": [],
   "source": []
  }
 ],
 "metadata": {
  "kernelspec": {
   "display_name": "Rust",
   "language": "rust",
   "name": "rust"
  },
  "language_info": {
   "codemirror_mode": "rust",
   "file_extension": ".rs",
   "mimetype": "text/rust",
   "name": "Rust",
   "pygment_lexer": "rust",
   "version": ""
  }
 },
 "nbformat": 4,
 "nbformat_minor": 5
}
