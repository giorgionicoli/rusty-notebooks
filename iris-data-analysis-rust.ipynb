{
 "cells": [
  {
   "cell_type": "code",
   "execution_count": 2,
   "id": "0c1b2550-7732-4c1f-9e64-afd8388ea279",
   "metadata": {
    "vscode": {
     "languageId": "rust"
    }
   },
   "outputs": [],
   "source": [
    ":dep polars = { version = \"0.35.4\", features = [\"describe\", \"to_dummies\", \"ndarray\", \"random\"] }\n",
    ":dep polars-core\n",
    ":dep candle-core"
   ]
  },
  {
   "cell_type": "code",
   "execution_count": 3,
   "id": "02474271-6358-4607-a9c3-327b74e9e528",
   "metadata": {
    "vscode": {
     "languageId": "rust"
    }
   },
   "outputs": [],
   "source": [
    "use polars::prelude::*;\n",
    "use polars_core::prelude::*;\n",
    "use candle_core::{Device, Tensor, Result};\n",
    "use polars::frame::DataFrame;\n",
    "use std::path::Path;"
   ]
  },
  {
   "cell_type": "code",
   "execution_count": 4,
   "metadata": {
    "vscode": {
     "languageId": "rust"
    }
   },
   "outputs": [],
   "source": [
    "fn read_data_frame_from_csv(\n",
    "    csv_file_path: &Path,\n",
    ") -> DataFrame {\n",
    "    CsvReader::from_path(csv_file_path)\n",
    "        .expect(\"Cannot open file.\")\n",
    "        .has_header(true)\n",
    "        .finish()\n",
    "        .unwrap()\n",
    "}"
   ]
  },
  {
   "cell_type": "code",
   "execution_count": 5,
   "id": "06d32fdb",
   "metadata": {
    "vscode": {
     "languageId": "rust"
    }
   },
   "outputs": [],
   "source": [
    "\n",
    "let iris_file_path: &Path = Path::new(\"Iris.csv\");\n",
    "let mut iris_df: DataFrame = read_data_frame_from_csv(iris_file_path);"
   ]
  },
  {
   "cell_type": "code",
   "execution_count": 6,
   "metadata": {
    "vscode": {
     "languageId": "rust"
    }
   },
   "outputs": [
    {
     "data": {
      "text/plain": [
       "shape: (9, 7)\n",
       "┌────────────┬───────────┬──────────────┬──────────────┬──────────────┬──────────────┬─────────────┐\n",
       "│ describe   ┆ Id        ┆ SepalLengthC ┆ SepalWidthCm ┆ PetalLengthC ┆ PetalWidthCm ┆ Species     │\n",
       "│ ---        ┆ ---       ┆ m            ┆ ---          ┆ m            ┆ ---          ┆ ---         │\n",
       "│ str        ┆ f64       ┆ ---          ┆ f64          ┆ ---          ┆ f64          ┆ str         │\n",
       "│            ┆           ┆ f64          ┆              ┆ f64          ┆              ┆             │\n",
       "╞════════════╪═══════════╪══════════════╪══════════════╪══════════════╪══════════════╪═════════════╡\n",
       "│ count      ┆ 150.0     ┆ 150.0        ┆ 150.0        ┆ 150.0        ┆ 150.0        ┆ 150         │\n",
       "│ null_count ┆ 0.0       ┆ 0.0          ┆ 0.0          ┆ 0.0          ┆ 0.0          ┆ 0           │\n",
       "│ mean       ┆ 75.5      ┆ 5.843333     ┆ 3.054        ┆ 3.758667     ┆ 1.198667     ┆ null        │\n",
       "│ std        ┆ 43.445368 ┆ 0.828066     ┆ 0.433594     ┆ 1.76442      ┆ 0.763161     ┆ null        │\n",
       "│ min        ┆ 1.0       ┆ 4.3          ┆ 2.0          ┆ 1.0          ┆ 0.1          ┆ Iris-setosa │\n",
       "│ 25%        ┆ 38.25     ┆ 5.1          ┆ 2.8          ┆ 1.6          ┆ 0.3          ┆ null        │\n",
       "│ 50%        ┆ 75.5      ┆ 5.8          ┆ 3.0          ┆ 4.35         ┆ 1.3          ┆ null        │\n",
       "│ 75%        ┆ 112.75    ┆ 6.4          ┆ 3.3          ┆ 5.1          ┆ 1.8          ┆ null        │\n",
       "│ max        ┆ 150.0     ┆ 7.9          ┆ 4.4          ┆ 6.9          ┆ 2.5          ┆ Iris-virgin │\n",
       "│            ┆           ┆              ┆              ┆              ┆              ┆ ica         │\n",
       "└────────────┴───────────┴──────────────┴──────────────┴──────────────┴──────────────┴─────────────┘"
      ]
     },
     "execution_count": 6,
     "metadata": {},
     "output_type": "execute_result"
    }
   ],
   "source": [
    "iris_df.describe(None)?"
   ]
  },
  {
   "cell_type": "code",
   "execution_count": 7,
   "metadata": {
    "vscode": {
     "languageId": "rust"
    }
   },
   "outputs": [
    {
     "data": {
      "text/plain": [
       "shape: (5, 6)\n",
       "┌─────┬───────────────┬──────────────┬───────────────┬──────────────┬─────────────┐\n",
       "│ Id  ┆ SepalLengthCm ┆ SepalWidthCm ┆ PetalLengthCm ┆ PetalWidthCm ┆ Species     │\n",
       "│ --- ┆ ---           ┆ ---          ┆ ---           ┆ ---          ┆ ---         │\n",
       "│ i64 ┆ f64           ┆ f64          ┆ f64           ┆ f64          ┆ str         │\n",
       "╞═════╪═══════════════╪══════════════╪═══════════════╪══════════════╪═════════════╡\n",
       "│ 1   ┆ 5.1           ┆ 3.5          ┆ 1.4           ┆ 0.2          ┆ Iris-setosa │\n",
       "│ 2   ┆ 4.9           ┆ 3.0          ┆ 1.4           ┆ 0.2          ┆ Iris-setosa │\n",
       "│ 3   ┆ 4.7           ┆ 3.2          ┆ 1.3           ┆ 0.2          ┆ Iris-setosa │\n",
       "│ 4   ┆ 4.6           ┆ 3.1          ┆ 1.5           ┆ 0.2          ┆ Iris-setosa │\n",
       "│ 5   ┆ 5.0           ┆ 3.6          ┆ 1.4           ┆ 0.2          ┆ Iris-setosa │\n",
       "└─────┴───────────────┴──────────────┴───────────────┴──────────────┴─────────────┘"
      ]
     },
     "execution_count": 7,
     "metadata": {},
     "output_type": "execute_result"
    }
   ],
   "source": [
    "iris_df.head(Some(5))"
   ]
  },
  {
   "cell_type": "code",
   "execution_count": 8,
   "id": "9f4ad0cf",
   "metadata": {
    "vscode": {
     "languageId": "rust"
    }
   },
   "outputs": [],
   "source": [
    "iris_df\n",
    ".hstack_mut(\n",
    "    iris_df[\"Species\"]\n",
    "    .to_dummies(None, false)?\n",
    "    .get_columns()\n",
    ")?\n",
    ".drop_in_place(\"Species\")?;"
   ]
  },
  {
   "cell_type": "code",
   "execution_count": 9,
   "id": "4d14741b",
   "metadata": {
    "vscode": {
     "languageId": "rust"
    }
   },
   "outputs": [
    {
     "data": {
      "text/plain": [
       "shape: (5, 8)\n",
       "┌─────┬─────────────┬─────────────┬────────────┬────────────┬────────────┬────────────┬────────────┐\n",
       "│ Id  ┆ SepalLength ┆ SepalWidthC ┆ PetalLengt ┆ PetalWidth ┆ Species_Ir ┆ Species_Ir ┆ Species_Ir │\n",
       "│ --- ┆ Cm          ┆ m           ┆ hCm        ┆ Cm         ┆ is-setosa  ┆ is-versico ┆ is-virgini │\n",
       "│ i64 ┆ ---         ┆ ---         ┆ ---        ┆ ---        ┆ ---        ┆ lor        ┆ ca         │\n",
       "│     ┆ f64         ┆ f64         ┆ f64        ┆ f64        ┆ i32        ┆ ---        ┆ ---        │\n",
       "│     ┆             ┆             ┆            ┆            ┆            ┆ i32        ┆ i32        │\n",
       "╞═════╪═════════════╪═════════════╪════════════╪════════════╪════════════╪════════════╪════════════╡\n",
       "│ 1   ┆ 5.1         ┆ 3.5         ┆ 1.4        ┆ 0.2        ┆ 1          ┆ 0          ┆ 0          │\n",
       "│ 2   ┆ 4.9         ┆ 3.0         ┆ 1.4        ┆ 0.2        ┆ 1          ┆ 0          ┆ 0          │\n",
       "│ 3   ┆ 4.7         ┆ 3.2         ┆ 1.3        ┆ 0.2        ┆ 1          ┆ 0          ┆ 0          │\n",
       "│ 4   ┆ 4.6         ┆ 3.1         ┆ 1.5        ┆ 0.2        ┆ 1          ┆ 0          ┆ 0          │\n",
       "│ 5   ┆ 5.0         ┆ 3.6         ┆ 1.4        ┆ 0.2        ┆ 1          ┆ 0          ┆ 0          │\n",
       "└─────┴─────────────┴─────────────┴────────────┴────────────┴────────────┴────────────┴────────────┘"
      ]
     },
     "execution_count": 9,
     "metadata": {},
     "output_type": "execute_result"
    }
   ],
   "source": [
    "iris_df.head(Some(5))"
   ]
  },
  {
   "cell_type": "code",
   "execution_count": 22,
   "id": "c9d2e52d",
   "metadata": {
    "vscode": {
     "languageId": "rust"
    }
   },
   "outputs": [],
   "source": [
    "let iris_df = iris_df.sample_frac(&Series::new(\"frac\", &[1.0]), false, true, Some(42))?; // shuffle the data"
   ]
  },
  {
   "cell_type": "code",
   "execution_count": 23,
   "id": "e1f1f601",
   "metadata": {
    "vscode": {
     "languageId": "rust"
    }
   },
   "outputs": [
    {
     "data": {
      "text/plain": [
       "shape: (150, 8)\n",
       "┌─────┬─────────────┬─────────────┬────────────┬────────────┬────────────┬────────────┬────────────┐\n",
       "│ Id  ┆ SepalLength ┆ SepalWidthC ┆ PetalLengt ┆ PetalWidth ┆ Species_Ir ┆ Species_Ir ┆ Species_Ir │\n",
       "│ --- ┆ Cm          ┆ m           ┆ hCm        ┆ Cm         ┆ is-setosa  ┆ is-versico ┆ is-virgini │\n",
       "│ i64 ┆ ---         ┆ ---         ┆ ---        ┆ ---        ┆ ---        ┆ lor        ┆ ca         │\n",
       "│     ┆ f64         ┆ f64         ┆ f64        ┆ f64        ┆ i32        ┆ ---        ┆ ---        │\n",
       "│     ┆             ┆             ┆            ┆            ┆            ┆ i32        ┆ i32        │\n",
       "╞═════╪═════════════╪═════════════╪════════════╪════════════╪════════════╪════════════╪════════════╡\n",
       "│ 75  ┆ 6.4         ┆ 2.9         ┆ 4.3        ┆ 1.3        ┆ 0          ┆ 1          ┆ 0          │\n",
       "│ 10  ┆ 4.9         ┆ 3.1         ┆ 1.5        ┆ 0.1        ┆ 1          ┆ 0          ┆ 0          │\n",
       "│ 116 ┆ 6.4         ┆ 3.2         ┆ 5.3        ┆ 2.3        ┆ 0          ┆ 0          ┆ 1          │\n",
       "│ 117 ┆ 6.5         ┆ 3.0         ┆ 5.5        ┆ 1.8        ┆ 0          ┆ 0          ┆ 1          │\n",
       "│ …   ┆ …           ┆ …           ┆ …          ┆ …          ┆ …          ┆ …          ┆ …          │\n",
       "│ 68  ┆ 5.8         ┆ 2.7         ┆ 4.1        ┆ 1.0        ┆ 0          ┆ 1          ┆ 0          │\n",
       "│ 23  ┆ 4.6         ┆ 3.6         ┆ 1.0        ┆ 0.2        ┆ 1          ┆ 0          ┆ 0          │\n",
       "│ 109 ┆ 6.7         ┆ 2.5         ┆ 5.8        ┆ 1.8        ┆ 0          ┆ 0          ┆ 1          │\n",
       "│ 45  ┆ 5.1         ┆ 3.8         ┆ 1.9        ┆ 0.4        ┆ 1          ┆ 0          ┆ 0          │\n",
       "└─────┴─────────────┴─────────────┴────────────┴────────────┴────────────┴────────────┴────────────┘"
      ]
     },
     "execution_count": 23,
     "metadata": {},
     "output_type": "execute_result"
    }
   ],
   "source": [
    "iris_df"
   ]
  },
  {
   "cell_type": "code",
   "execution_count": 48,
   "id": "b54c32b7",
   "metadata": {
    "vscode": {
     "languageId": "rust"
    }
   },
   "outputs": [],
   "source": [
    "const TRAIN_FRAC: f64 = 0.8;\n",
    "let n_rows = iris_df.height();\n",
    "let n_train_examples = (TRAIN_FRAC * n_rows as f64) as usize;\n"
   ]
  },
  {
   "cell_type": "code",
   "execution_count": 49,
   "id": "6ce0f417",
   "metadata": {
    "vscode": {
     "languageId": "rust"
    }
   },
   "outputs": [],
   "source": [
    "let df_train = iris_df.slice(0, n_train_examples);\n",
    "let df_test = iris_df.slice(n_train_examples as i64, n_rows);"
   ]
  },
  {
   "cell_type": "code",
   "execution_count": 50,
   "id": "e18c43f5",
   "metadata": {
    "vscode": {
     "languageId": "rust"
    }
   },
   "outputs": [
    {
     "data": {
      "text/plain": [
       "shape: (9, 8)\n",
       "┌─────┬─────────────┬─────────────┬────────────┬────────────┬────────────┬────────────┬────────────┐\n",
       "│ Id  ┆ SepalLength ┆ SepalWidthC ┆ PetalLengt ┆ PetalWidth ┆ Species_Ir ┆ Species_Ir ┆ Species_Ir │\n",
       "│ --- ┆ Cm          ┆ m           ┆ hCm        ┆ Cm         ┆ is-setosa  ┆ is-versico ┆ is-virgini │\n",
       "│ i64 ┆ ---         ┆ ---         ┆ ---        ┆ ---        ┆ ---        ┆ lor        ┆ ca         │\n",
       "│     ┆ f64         ┆ f64         ┆ f64        ┆ f64        ┆ i32        ┆ ---        ┆ ---        │\n",
       "│     ┆             ┆             ┆            ┆            ┆            ┆ i32        ┆ i32        │\n",
       "╞═════╪═════════════╪═════════════╪════════════╪════════════╪════════════╪════════════╪════════════╡\n",
       "│ 50  ┆ 5.0         ┆ 3.3         ┆ 1.4        ┆ 0.2        ┆ 1          ┆ 0          ┆ 0          │\n",
       "│ 51  ┆ 7.0         ┆ 3.2         ┆ 4.7        ┆ 1.4        ┆ 0          ┆ 1          ┆ 0          │\n",
       "│ 42  ┆ 4.5         ┆ 2.3         ┆ 1.3        ┆ 0.3        ┆ 1          ┆ 0          ┆ 0          │\n",
       "│ 131 ┆ 7.4         ┆ 2.8         ┆ 6.1        ┆ 1.9        ┆ 0          ┆ 0          ┆ 1          │\n",
       "│ 15  ┆ 5.8         ┆ 4.0         ┆ 1.2        ┆ 0.2        ┆ 1          ┆ 0          ┆ 0          │\n",
       "│ 74  ┆ 6.1         ┆ 2.8         ┆ 4.7        ┆ 1.2        ┆ 0          ┆ 1          ┆ 0          │\n",
       "│ 92  ┆ 6.1         ┆ 3.0         ┆ 4.6        ┆ 1.4        ┆ 0          ┆ 1          ┆ 0          │\n",
       "│ 136 ┆ 7.7         ┆ 3.0         ┆ 6.1        ┆ 2.3        ┆ 0          ┆ 0          ┆ 1          │\n",
       "│ 52  ┆ 6.4         ┆ 3.2         ┆ 4.5        ┆ 1.5        ┆ 0          ┆ 1          ┆ 0          │\n",
       "└─────┴─────────────┴─────────────┴────────────┴────────────┴────────────┴────────────┴────────────┘"
      ]
     },
     "execution_count": 50,
     "metadata": {},
     "output_type": "execute_result"
    }
   ],
   "source": [
    "df_train.tail(Some(9))"
   ]
  },
  {
   "cell_type": "code",
   "execution_count": 51,
   "id": "2e5f520b",
   "metadata": {
    "vscode": {
     "languageId": "rust"
    }
   },
   "outputs": [
    {
     "data": {
      "text/plain": [
       "shape: (9, 8)\n",
       "┌─────┬─────────────┬─────────────┬────────────┬────────────┬────────────┬────────────┬────────────┐\n",
       "│ Id  ┆ SepalLength ┆ SepalWidthC ┆ PetalLengt ┆ PetalWidth ┆ Species_Ir ┆ Species_Ir ┆ Species_Ir │\n",
       "│ --- ┆ Cm          ┆ m           ┆ hCm        ┆ Cm         ┆ is-setosa  ┆ is-versico ┆ is-virgini │\n",
       "│ i64 ┆ ---         ┆ ---         ┆ ---        ┆ ---        ┆ ---        ┆ lor        ┆ ca         │\n",
       "│     ┆ f64         ┆ f64         ┆ f64        ┆ f64        ┆ i32        ┆ ---        ┆ ---        │\n",
       "│     ┆             ┆             ┆            ┆            ┆            ┆ i32        ┆ i32        │\n",
       "╞═════╪═════════════╪═════════════╪════════════╪════════════╪════════════╪════════════╪════════════╡\n",
       "│ 27  ┆ 5.0         ┆ 3.4         ┆ 1.6        ┆ 0.4        ┆ 1          ┆ 0          ┆ 0          │\n",
       "│ 84  ┆ 6.0         ┆ 2.7         ┆ 5.1        ┆ 1.6        ┆ 0          ┆ 1          ┆ 0          │\n",
       "│ 30  ┆ 4.7         ┆ 3.2         ┆ 1.6        ┆ 0.2        ┆ 1          ┆ 0          ┆ 0          │\n",
       "│ 67  ┆ 5.6         ┆ 3.0         ┆ 4.5        ┆ 1.5        ┆ 0          ┆ 1          ┆ 0          │\n",
       "│ 107 ┆ 4.9         ┆ 2.5         ┆ 4.5        ┆ 1.7        ┆ 0          ┆ 0          ┆ 1          │\n",
       "│ 118 ┆ 7.7         ┆ 3.8         ┆ 6.7        ┆ 2.2        ┆ 0          ┆ 0          ┆ 1          │\n",
       "│ 114 ┆ 5.7         ┆ 2.5         ┆ 5.0        ┆ 2.0        ┆ 0          ┆ 0          ┆ 1          │\n",
       "│ 96  ┆ 5.7         ┆ 3.0         ┆ 4.2        ┆ 1.2        ┆ 0          ┆ 1          ┆ 0          │\n",
       "│ 5   ┆ 5.0         ┆ 3.6         ┆ 1.4        ┆ 0.2        ┆ 1          ┆ 0          ┆ 0          │\n",
       "└─────┴─────────────┴─────────────┴────────────┴────────────┴────────────┴────────────┴────────────┘"
      ]
     },
     "execution_count": 51,
     "metadata": {},
     "output_type": "execute_result"
    }
   ],
   "source": [
    "df_test.head(Some(9))"
   ]
  },
  {
   "cell_type": "code",
   "execution_count": 60,
   "id": "fe0b079f",
   "metadata": {
    "vscode": {
     "languageId": "rust"
    }
   },
   "outputs": [
    {
     "data": {
      "text/plain": [
       "shape: (9, 8)\n",
       "┌─────┬─────────────┬─────────────┬────────────┬────────────┬────────────┬────────────┬────────────┐\n",
       "│ Id  ┆ SepalLength ┆ SepalWidthC ┆ PetalLengt ┆ PetalWidth ┆ Species_Ir ┆ Species_Ir ┆ Species_Ir │\n",
       "│ --- ┆ Cm          ┆ m           ┆ hCm        ┆ Cm         ┆ is-setosa  ┆ is-versico ┆ is-virgini │\n",
       "│ i64 ┆ ---         ┆ ---         ┆ ---        ┆ ---        ┆ ---        ┆ lor        ┆ ca         │\n",
       "│     ┆ f64         ┆ f64         ┆ f64        ┆ f64        ┆ i32        ┆ ---        ┆ ---        │\n",
       "│     ┆             ┆             ┆            ┆            ┆            ┆ i32        ┆ i32        │\n",
       "╞═════╪═════════════╪═════════════╪════════════╪════════════╪════════════╪════════════╪════════════╡\n",
       "│ 75  ┆ 6.4         ┆ 2.9         ┆ 4.3        ┆ 1.3        ┆ 0          ┆ 1          ┆ 0          │\n",
       "│ 10  ┆ 4.9         ┆ 3.1         ┆ 1.5        ┆ 0.1        ┆ 1          ┆ 0          ┆ 0          │\n",
       "│ 116 ┆ 6.4         ┆ 3.2         ┆ 5.3        ┆ 2.3        ┆ 0          ┆ 0          ┆ 1          │\n",
       "│ 117 ┆ 6.5         ┆ 3.0         ┆ 5.5        ┆ 1.8        ┆ 0          ┆ 0          ┆ 1          │\n",
       "│ 139 ┆ 6.0         ┆ 3.0         ┆ 4.8        ┆ 1.8        ┆ 0          ┆ 0          ┆ 1          │\n",
       "│ 149 ┆ 6.2         ┆ 3.4         ┆ 5.4        ┆ 2.3        ┆ 0          ┆ 0          ┆ 1          │\n",
       "│ 32  ┆ 5.4         ┆ 3.4         ┆ 1.5        ┆ 0.4        ┆ 1          ┆ 0          ┆ 0          │\n",
       "│ 129 ┆ 6.4         ┆ 2.8         ┆ 5.6        ┆ 2.1        ┆ 0          ┆ 0          ┆ 1          │\n",
       "│ 121 ┆ 6.9         ┆ 3.2         ┆ 5.7        ┆ 2.3        ┆ 0          ┆ 0          ┆ 1          │\n",
       "└─────┴─────────────┴─────────────┴────────────┴────────────┴────────────┴────────────┴────────────┘"
      ]
     },
     "execution_count": 60,
     "metadata": {},
     "output_type": "execute_result"
    }
   ],
   "source": [
    "df_train.head(Some(9))"
   ]
  },
  {
   "cell_type": "code",
   "execution_count": 63,
   "id": "053fa8a9",
   "metadata": {
    "vscode": {
     "languageId": "rust"
    }
   },
   "outputs": [],
   "source": [
    "let X_train = dataframe_to_tensor(&df_train.select([\"SepalLengthCm\", \"SepalWidthCm\", \"PetalLengthCm\", \"PetalWidthCm\"])?)?;\n",
    "let y_train = dataframe_to_tensor(&df_train.select([\"Species_Iris-setosa\", \"Species_Iris-versicolor\", \"Species_Iris-virginica\"])?)?;\n",
    "let X_test = dataframe_to_tensor(&df_test.select([\"SepalLengthCm\", \"SepalWidthCm\", \"PetalLengthCm\", \"PetalWidthCm\"])?)?;\n",
    "let y_test = dataframe_to_tensor(&df_test.select([\"Species_Iris-setosa\", \"Species_Iris-versicolor\", \"Species_Iris-virginica\"])?)?;"
   ]
  },
  {
   "cell_type": "code",
   "execution_count": 65,
   "id": "68189aee",
   "metadata": {
    "vscode": {
     "languageId": "rust"
    }
   },
   "outputs": [
    {
     "data": {
      "text/plain": [
       "([120, 4], [120, 3], [30, 4], [30, 3])"
      ]
     },
     "execution_count": 65,
     "metadata": {},
     "output_type": "execute_result"
    }
   ],
   "source": [
    "(X_train.shape(), y_train.shape(), X_test.shape(), y_test.shape())"
   ]
  },
  {
   "cell_type": "code",
   "execution_count": null,
   "metadata": {
    "vscode": {
     "languageId": "rust"
    }
   },
   "outputs": [],
   "source": [
    "struct DataSet {\n",
    "    pub X_train: Tensor,\n",
    "    pub y_test: Tensor,\n",
    "    pub X_test: Tensor,\n",
    "    pub y_train: Tensor,\n",
    "}\n",
    "\n",
    "impl DataSet {\n",
    "    pub fn new(X_train: Tensor, y_train: Tensor, X_test: Tensor, y_test: Tensor) -> Self {\n",
    "        Self {\n",
    "            X_train,\n",
    "            y_train,\n",
    "            X_test,\n",
    "            y_test,\n",
    "        }\n",
    "    }\n",
    "\n",
    "    pub fn from_df(df: &DataFrame, train_frac: f64, input_columns: &[&str], predict_columns: &[&str], seed: Option<u64>) -> Result<Self> {\n",
    "        let shuffled_df = df.sample_frac(&Series::new(\"frac\", &[1.0]), false, true, Some(42))?;  // shuffle the dataframe\n",
    "        \n",
    "        let n_rows = df.height();\n",
    "        let n_train_examples = (train_frac * n_rows as f64) as usize;\n",
    "\n",
    "        let df_train = shuffled_df.slice(0, n_train_examples);\n",
    "        let df_test = shuffled_df.slice(n_train_examples as i64, n_rows);\n",
    "\n",
    "        let X_train = dataframe_to_tensor(&df_train.select(input_columns)?)?;\n",
    "        let y_train = dataframe_to_tensor(&df_train.select(predict_columns)?)?;\n",
    "        let X_test = dataframe_to_tensor(&df_test.select(input_columns)?)?;\n",
    "        let y_test = dataframe_to_tensor(&df_test.select(predict_columns)?)?;\n",
    "\n",
    "        Ok(Self::new(X_train, y_train, X_train, y_train))\n",
    "    }\n",
    "}"
   ]
  },
  {
   "cell_type": "code",
   "execution_count": null,
   "metadata": {
    "vscode": {
     "languageId": "rust"
    }
   },
   "outputs": [],
   "source": [
    "X.head(Some(5))"
   ]
  },
  {
   "cell_type": "code",
   "execution_count": null,
   "metadata": {
    "vscode": {
     "languageId": "rust"
    }
   },
   "outputs": [],
   "source": []
  },
  {
   "cell_type": "code",
   "execution_count": 52,
   "metadata": {
    "vscode": {
     "languageId": "rust"
    }
   },
   "outputs": [],
   "source": [
    "fn dataframe_to_tensor(df: &DataFrame) -> Result<Tensor> {\n",
    "    let n_rows = df.height();\n",
    "    let n_cols = df.width();\n",
    "\n",
    "    // Collect DataFrame values into a Vec of Vecs\n",
    "    let mut values = Vec::with_capacity(n_cols);\n",
    "    for col in df.iter() {\n",
    "        let col_vec: Vec<f64> = col\n",
    "            .iter()\n",
    "            .map(|val| val.extract::<f64>().unwrap())\n",
    "            .collect();\n",
    "        values.push(col_vec);\n",
    "    };\n",
    "\n",
    "    // Create Tensor from flattened Vec of Vecs\n",
    "    Ok(Tensor::from_vec(\n",
    "        values.into_iter().flatten().collect(),\n",
    "        (n_cols, n_rows),\n",
    "        &Device::Cpu,\n",
    "    )\n",
    "    .expect(\"error\")\n",
    "    .t()\n",
    "    .expect(\"error\"))\n",
    "}"
   ]
  },
  {
   "cell_type": "code",
   "execution_count": null,
   "metadata": {
    "vscode": {
     "languageId": "rust"
    }
   },
   "outputs": [],
   "source": [
    "let X_tensor = dataframe_to_tensor(&X)?;\n",
    "let y_tensor = dataframe_to_tensor(&y)?;"
   ]
  },
  {
   "cell_type": "code",
   "execution_count": null,
   "metadata": {
    "vscode": {
     "languageId": "rust"
    }
   },
   "outputs": [],
   "source": [
    "(X.shape(), y.shape())"
   ]
  },
  {
   "cell_type": "code",
   "execution_count": null,
   "id": "c87035e7",
   "metadata": {
    "vscode": {
     "languageId": "rust"
    }
   },
   "outputs": [],
   "source": [
    "struct Dataset {\n",
    "    X_train: Tensor,\n",
    "    y_train: Tensor,\n",
    "    X_test: Tensor,\n",
    "    y_test: Tensor,\n",
    "}"
   ]
  },
  {
   "cell_type": "code",
   "execution_count": null,
   "id": "5ef26b05",
   "metadata": {
    "vscode": {
     "languageId": "rust"
    }
   },
   "outputs": [],
   "source": [
    "X"
   ]
  },
  {
   "cell_type": "code",
   "execution_count": null,
   "id": "1e101a05",
   "metadata": {
    "vscode": {
     "languageId": "rust"
    }
   },
   "outputs": [],
   "source": []
  }
 ],
 "metadata": {
  "kernelspec": {
   "display_name": "Rust",
   "language": "rust",
   "name": "rust"
  },
  "language_info": {
   "codemirror_mode": "rust",
   "file_extension": ".rs",
   "mimetype": "text/rust",
   "name": "Rust",
   "pygment_lexer": "rust",
   "version": ""
  }
 },
 "nbformat": 4,
 "nbformat_minor": 5
}
